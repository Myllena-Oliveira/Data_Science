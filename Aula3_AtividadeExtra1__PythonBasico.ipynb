{
  "nbformat": 4,
  "nbformat_minor": 0,
  "metadata": {
    "colab": {
      "provenance": [],
      "authorship_tag": "ABX9TyNosI0Q2nXdPar4OgYZYNb8",
      "include_colab_link": true
    },
    "kernelspec": {
      "name": "python3",
      "display_name": "Python 3"
    },
    "language_info": {
      "name": "python"
    }
  },
  "cells": [
    {
      "cell_type": "markdown",
      "metadata": {
        "id": "view-in-github",
        "colab_type": "text"
      },
      "source": [
        "<a href=\"https://colab.research.google.com/github/Myllena-Oliveira/Data_Science/blob/main/Aula3_AtividadeExtra1__PythonBasico.ipynb\" target=\"_parent\"><img src=\"https://colab.research.google.com/assets/colab-badge.svg\" alt=\"Open In Colab\"/></a>"
      ]
    },
    {
      "cell_type": "markdown",
      "source": [
        "# Exercício 1\n",
        "Imprima uma sequeência de números pares entre 100 e 150"
      ],
      "metadata": {
        "id": "0UoV0eJyJrvG"
      }
    },
    {
      "cell_type": "code",
      "execution_count": null,
      "metadata": {
        "colab": {
          "base_uri": "https://localhost:8080/"
        },
        "id": "qazYBNMmJkO5",
        "outputId": "304499f5-9ef0-4309-881d-68380085bce5"
      },
      "outputs": [
        {
          "output_type": "stream",
          "name": "stdout",
          "text": [
            "100 102 104 106 108 110 112 114 116 118 120 122 124 126 128 130 132 134 136 138 140 142 144 146 148 "
          ]
        }
      ],
      "source": [
        "for n in range(100,150,2):\n",
        "  print(n,end=' ')"
      ]
    },
    {
      "cell_type": "markdown",
      "source": [
        "# Exercício 2\n",
        "Faça uma correção dos erros no código abaixo e execute o programa:\n",
        "\n",
        "![WhatsApp Image 2023-03-15 at 18.18.10.jpeg](data:image/jpeg;base64,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)\n",
        "\n"
      ],
      "metadata": {
        "id": "3YEjCdt6MACT"
      }
    },
    {
      "cell_type": "code",
      "source": [
        "temperatura= float(input('Qual a temperatura?'))\n",
        "if (temperatura > 30):\n",
        "  print('Vista roupas leves.')\n",
        "else:\n",
        "  print('Busque seus casacos.')"
      ],
      "metadata": {
        "colab": {
          "base_uri": "https://localhost:8080/"
        },
        "id": "gVil3OwhMIHz",
        "outputId": "7970c975-d752-457d-dcb1-f44650166726"
      },
      "execution_count": null,
      "outputs": [
        {
          "output_type": "stream",
          "name": "stdout",
          "text": [
            "Qual a temperatura?35\n",
            "Vista roupas leves.\n"
          ]
        }
      ]
    },
    {
      "cell_type": "markdown",
      "source": [
        "# Exercício 3\n",
        "Considere a lista abaixo e retorne apenas os elementos cujo\n",
        "índice for maior que 5:\n",
        "\n",
        "lista = ['a', 'b', 'c', 'd', 'e', 'f', 'g', 'h']\n"
      ],
      "metadata": {
        "id": "k1ADfgbTO4V1"
      }
    },
    {
      "cell_type": "code",
      "source": [
        "lista = ['a', 'b', 'c', 'd', 'e', 'f', 'g', 'h']\n",
        "print(lista [5:])"
      ],
      "metadata": {
        "colab": {
          "base_uri": "https://localhost:8080/"
        },
        "id": "9oVCfO9hO59_",
        "outputId": "88f76449-108d-4c2f-9c73-0d1e52ce9363"
      },
      "execution_count": null,
      "outputs": [
        {
          "output_type": "stream",
          "name": "stdout",
          "text": [
            "['f', 'g', 'h']\n"
          ]
        }
      ]
    },
    {
      "cell_type": "markdown",
      "source": [
        "# Exercício 4\n",
        "Usando o que foi visto em sala, crie uma estrutura que\n",
        "pergunte ao usuário qual o dia da semana. Se o dia for\n",
        "igual a domingo ou igual a sábado, imprima na tela\n",
        "\"Hoje é dia de descanso\", caso contrário imprima na\n",
        "tela \"Você precisa trabalhar!\""
      ],
      "metadata": {
        "id": "95uwiq1vPdaK"
      }
    },
    {
      "cell_type": "code",
      "source": [
        "dia = input('Qual o dia da semana?')\n",
        "if (dia == 'domingo' or dia == 'sabado'):\n",
        "  print('Hoje é dia de descanso!')\n",
        "else:\n",
        "  print ('Você precisa trabalhar!')"
      ],
      "metadata": {
        "colab": {
          "base_uri": "https://localhost:8080/"
        },
        "id": "HjC_seCXPfjK",
        "outputId": "f612a13e-2479-4e36-84f0-9f29f37a3294"
      },
      "execution_count": null,
      "outputs": [
        {
          "output_type": "stream",
          "name": "stdout",
          "text": [
            "Qual o dia da semana?sabado\n",
            "Hoje é dia de descanso!\n"
          ]
        }
      ]
    },
    {
      "cell_type": "markdown",
      "source": [
        "# Exercício 5\n",
        "Faça um Programa que peça as 4 notas bimestrais e mostre a\n",
        "média."
      ],
      "metadata": {
        "id": "EaDtzwoYUYQ-"
      }
    },
    {
      "cell_type": "code",
      "source": [
        "nota1 = float( input('Qual a 1° nota? '))\n",
        "nota2 = float( input('Qual a 2° nota? '))\n",
        "nota3 = float( input('Qual a 3° nota? '))\n",
        "nota4 = float( input('Qual a 4° nota? '))\n",
        "\n",
        "media = (nota1 + nota2 + nota3 + nota4)/4\n",
        "print('A média do semestre é',media)\n"
      ],
      "metadata": {
        "colab": {
          "base_uri": "https://localhost:8080/"
        },
        "id": "_zZcg9z9UanJ",
        "outputId": "ffb411f9-356f-452d-a2dc-643a9c041f20"
      },
      "execution_count": null,
      "outputs": [
        {
          "output_type": "stream",
          "name": "stdout",
          "text": [
            "Qual a 1° nota? 8\n",
            "Qual a 2° nota? 8\n",
            "Qual a 3° nota? 8\n",
            "Qual a 4° nota? 8\n",
            "A média do semestre é 8.0\n"
          ]
        }
      ]
    },
    {
      "cell_type": "markdown",
      "source": [
        "# Exercício 6\n",
        "Faça um Programa que converta metros para centímetros."
      ],
      "metadata": {
        "id": "c-DlZ-S3XdWz"
      }
    },
    {
      "cell_type": "code",
      "source": [
        "metros = float( input('Digite quantos metros você quer converter: '))\n",
        "conversao = metros*100\n",
        "print (metros, f'metros equivale a {round(conversao,2)} cm')"
      ],
      "metadata": {
        "colab": {
          "base_uri": "https://localhost:8080/"
        },
        "id": "TKbJETDrXfFk",
        "outputId": "a5346b38-0ae4-4a59-be3e-5e2a55559ad8"
      },
      "execution_count": null,
      "outputs": [
        {
          "output_type": "stream",
          "name": "stdout",
          "text": [
            "Digite quantos metros você quer converter: 2.3\n",
            "2.3 metros equivale a 230.0 cm\n"
          ]
        }
      ]
    },
    {
      "cell_type": "markdown",
      "source": [
        "#Exercício 7\n",
        "Faça um Programa que pergunte quanto você ganha por hora e o\n",
        "número de horas trabalhadas no mês. Calcule e mostre o total do\n",
        "seu salário no referido mês."
      ],
      "metadata": {
        "id": "ZJjE5YaEY4Ey"
      }
    },
    {
      "cell_type": "code",
      "source": [
        "ganho = float( input(\"Quanto você recebe por hora trabalhada? \"))\n",
        "qtdHoras = float( input(\"Quantas horas você trabalha no mês? \"))\n",
        "\n",
        "salario = ganho * qtdHoras\n",
        "print ('Você recebe R$', salario,'por mês!')"
      ],
      "metadata": {
        "colab": {
          "base_uri": "https://localhost:8080/"
        },
        "id": "lkP3ufGeY7DS",
        "outputId": "9db580f9-7662-41e3-91a2-3db81b004dc2"
      },
      "execution_count": null,
      "outputs": [
        {
          "output_type": "stream",
          "name": "stdout",
          "text": [
            "Quanto você recebe por hora trabalhada? 9\n",
            "Quantas horas você trabalha no mês? 72\n",
            "Você recebe R$ 648.0 por mês!\n"
          ]
        }
      ]
    },
    {
      "cell_type": "markdown",
      "source": [
        "#Exercício 8\n",
        "\n",
        "Faça um Programa que peça 2 números inteiros e um número\n",
        "real. Calcule e mostre:\n",
        "- o produto do dobro do primeiro com metade do segundo .\n",
        "- a soma do triplo do primeiro com o terceiro.\n",
        "- o terceiro elevado ao cubo."
      ],
      "metadata": {
        "id": "yMd76rxBZsbZ"
      }
    },
    {
      "cell_type": "code",
      "source": [
        "num1 = int( input('Digite um número inteiro: '))\n",
        "num2 = int( input('Digite outro inteiro: '))\n",
        "num3 = float( input('Digite um número real: '))\n",
        "\n",
        "produto= num1*2 + num2/2\n",
        "soma= num1*3 + num3\n",
        "exponenciacao = num3**3\n",
        "\n",
        "print('')\n",
        "print('O produto do dobro do primeiro com metade do segundo é', produto)\n",
        "print('A soma do triplo do primeiro com o terceiro é', soma)\n",
        "print('O terceiro elevado ao cubo é', exponenciacao)"
      ],
      "metadata": {
        "colab": {
          "base_uri": "https://localhost:8080/"
        },
        "id": "33oI0JazZt-J",
        "outputId": "e675be84-6daf-4883-cb1d-70e5cf79928e"
      },
      "execution_count": null,
      "outputs": [
        {
          "output_type": "stream",
          "name": "stdout",
          "text": [
            "Digite um número inteiro: 2\n",
            "Digite outro inteiro: 3\n",
            "Digite um número real: 4\n",
            "\n",
            "O produto do dobro do primeiro com metade do segundo é  5.5\n",
            "A soma do triplo do primeiro com o terceiro é  10.0\n",
            "O terceiro elevado ao cubo é  64.0\n"
          ]
        }
      ]
    },
    {
      "cell_type": "markdown",
      "source": [
        "#Exercício 9\n",
        "\n",
        "Faça um Programa que pergunte quanto você ganha por hora e o número de horas trabalhadas no mês. Calcule e mostre o total do seu salário no referido mês, sabendo-se que são descontados 11% para o Imposto de Renda, 8% para o INSS e 5% para o sindicato, faça um programa que nos dê:\n",
        "- salário bruto.\n",
        "- quanto pagou ao INSS.\n",
        "- quanto pagou ao sindicato.\n",
        "- o salário líquido.\n",
        "\n",
        "Calcule os descontos e o salário líquido."
      ],
      "metadata": {
        "id": "uiPNbvOgbYDK"
      }
    },
    {
      "cell_type": "code",
      "source": [
        "ganho = float( input(\"Quanto você recebe por hora trabalhada? \"))\n",
        "qtdHoras = float( input(\"Quantas horas você trabalha no mês? \"))\n",
        "\n",
        "salarioBruto = ganho * qtdHoras\n",
        "impostoRenda = salarioBruto*0.11\n",
        "inss = salarioBruto*0.08\n",
        "sindicato = salarioBruto*0.05\n",
        "salarioLiquido = (salarioBruto - impostoRenda - inss - sindicato)\n",
        "\n",
        "print (' ')\n",
        "print ('Seu salário bruto mensal R$', salarioBruto)\n",
        "print ('Você paga R$', impostoRenda,' de Imposto de Renda por mês.')\n",
        "print ('Você paga R$', inss,'ao INSS por mês.')\n",
        "print ('Você paga R$', sindicato,'ao sindicato mês.')\n",
        "print ('Com os descontos, você recebe R$', salarioLiquido,'por mês!')\n"
      ],
      "metadata": {
        "colab": {
          "base_uri": "https://localhost:8080/"
        },
        "id": "P6AN1cxWbZgw",
        "outputId": "ad0c7688-7b33-4b34-dd56-e7620f1bdb39"
      },
      "execution_count": null,
      "outputs": [
        {
          "output_type": "stream",
          "name": "stdout",
          "text": [
            "Quanto você recebe por hora trabalhada? 9\n",
            "Quantas horas você trabalha no mês? 72\n",
            " \n",
            "Seu salário bruto mensal R$ 648.0\n",
            "Você paga R$ 71.28  de Imposto de Renda por mês.\n",
            "Você paga R$ 51.84 ao INSS por mês.\n",
            "Você paga R$ 32.4 ao sindicato mês.\n",
            "Com os descontos, você recebe R$ 492.48 por mês!\n"
          ]
        }
      ]
    },
    {
      "cell_type": "markdown",
      "source": [
        "#Exercicio 10\n",
        "Faça um programa que peça o tamanho de um arquivo para\n",
        "download (em MB) e a velocidade de um link de Internet (em\n",
        "Mbps), calcule e informe o tempo aproximado de download do\n",
        "arquivo usando este link (em minutos)."
      ],
      "metadata": {
        "id": "Kn1xNxQ1dm1U"
      }
    },
    {
      "cell_type": "code",
      "source": [
        "tamArquivo = float( input(\"Qual o tamanho do arquivo em MB? \"))\n",
        "velocidadeInternet = float( input(\"Qual a velocidade da sua internet em Mbps? \"))\n",
        "\n",
        "conversao = tamArquivo*8 / velocidadeInternet\n",
        "tempoDownload = conversao/60\n",
        "\n",
        "print (f'O tempo de Download do seu arquivo em minutos é {round(tempoDownload,2)}')"
      ],
      "metadata": {
        "colab": {
          "base_uri": "https://localhost:8080/"
        },
        "id": "LcUtYz9BdoJy",
        "outputId": "be756982-95c7-42c7-9738-19d549f85afd"
      },
      "execution_count": null,
      "outputs": [
        {
          "output_type": "stream",
          "name": "stdout",
          "text": [
            "Qual o tamanho do arquivo em MB? 5\n",
            "Qual a velocidade da sua internet em Mbps? 5\n",
            "O tempo de Download do seu arquivo em minutos é 0.13\n"
          ]
        }
      ]
    },
    {
      "cell_type": "markdown",
      "source": [
        "Se 1MB = 8Mb, então, tomando como base um tamanho de arquivo equivalente a 5MB e uma velocidade de internet igual a 5Mbps, temos:\n",
        "\n",
        "\n",
        "![WhatsApp Image 2023-03-15 at 18.09.22.jpeg](data:image/jpeg;base64,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)"
      ],
      "metadata": {
        "id": "6je9GOXMfsJg"
      }
    }
  ]
}